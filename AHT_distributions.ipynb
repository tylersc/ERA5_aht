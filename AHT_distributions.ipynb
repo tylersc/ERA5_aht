{
 "cells": [
  {
   "cell_type": "markdown",
   "id": "01b6a967-9e99-408f-bf18-775900261c49",
   "metadata": {},
   "source": [
    "## Import packages"
   ]
  },
  {
   "cell_type": "code",
   "execution_count": 31,
   "id": "c1642b84-09b9-48b9-99bb-59595d0aa214",
   "metadata": {},
   "outputs": [
    {
     "name": "stdout",
     "output_type": "stream",
     "text": [
      "The autoreload extension is already loaded. To reload it, use:\n",
      "  %reload_ext autoreload\n"
     ]
    }
   ],
   "source": [
    "import xarray as xr\n",
    "from glob import glob\n",
    "import matplotlib.pyplot as plt\n",
    "import numpy as np\n",
    "from scipy import signal\n",
    "import scipy.stats as sc\n",
    "import metpy as mtp\n",
    "import math\n",
    "from scipy import integrate\n",
    "import ERA5_functions as era_fncts\n",
    "import pandas as pd\n",
    "from random import randint\n",
    "\n",
    "from matplotlib.pyplot import cm\n",
    "import datetime as dt\n",
    "\n",
    "import cartopy.crs as ccrs\n",
    "from numpy.random import default_rng\n",
    "\n",
    "%load_ext autoreload\n",
    "%autoreload 2"
   ]
  },
  {
   "cell_type": "markdown",
   "id": "713cf921-986c-4cf8-a845-ffb765683f80",
   "metadata": {},
   "source": [
    "### Constants"
   ]
  },
  {
   "cell_type": "code",
   "execution_count": 2,
   "id": "251a5e5e-7977-478e-89ea-c32e4028b5e6",
   "metadata": {},
   "outputs": [],
   "source": [
    "a=6371220 #radius of earth in m\n",
    "L=2.5E6 #Latent heat in atmosphere\n",
    "L_ice=3.34e5 #Latent heat of fusion\n",
    "g=9.81 #Acceleration from gravity\n",
    "conv_pw=1e15 #Conversion from watts to PW\n",
    "cp=1007          \n",
    "    "
   ]
  },
  {
   "cell_type": "markdown",
   "id": "ed61cd9d-7806-493c-9e19-f4d2cb7b6534",
   "metadata": {},
   "source": [
    "### Dims"
   ]
  },
  {
   "cell_type": "code",
   "execution_count": 3,
   "id": "a776aa1d-e859-45e7-8eee-d25e83802150",
   "metadata": {},
   "outputs": [],
   "source": [
    "lats = np.linspace(90, -90, 361)\n",
    "lons = np.linspace(0, 359.5, 720)\n",
    "levels = [1, 2, 3, 5, 7, 10, 20, 30, 50, 70, 100, 125, 150, 175, 200, 225, 250, 300, 350,\n",
    "            400, 450, 500, 550, 600, 650, 700, 750, 775, 800, 825, 850, 875, 900, 925, 950, 975, 1000]\n",
    "geometry = 2 * np.pi * np.cos(np.deg2rad(np.asarray(lats))) * a / g"
   ]
  },
  {
   "cell_type": "markdown",
   "id": "3e924037-94e6-4444-9401-6d2e314662d3",
   "metadata": {},
   "source": [
    "### Load instantaneous AHT calcs"
   ]
  },
  {
   "cell_type": "code",
   "execution_count": 4,
   "id": "a27c7d8c-6db1-4ab8-a0b7-4e1ccff32fa2",
   "metadata": {},
   "outputs": [],
   "source": [
    "aht_ds = xr.open_dataset('aht_time_series/era5_aht_time_series.nc')"
   ]
  },
  {
   "cell_type": "code",
   "execution_count": 9,
   "id": "184023ca-d1d6-4d81-9957-5bca24714652",
   "metadata": {},
   "outputs": [],
   "source": [
    "### Load in the necessary single lat AHT files\n",
    "\n",
    "which_lat1 = 40\n",
    "which_lat2 = -40\n",
    "\n",
    "ddir = 'aht_time_series/one_lat/'\n",
    "eddy_files1 = sorted(glob(ddir + 'eddy_total_' + str(which_lat1) +'*'))\n",
    "eddy_files2 = sorted(glob(ddir + 'eddy_total_' + str(which_lat2) + '*'))\n",
    "\n",
    "eddy_data1 = []\n",
    "for eddy in eddy_files1:\n",
    "    file_data = np.load(eddy)\n",
    "    eddy_data1.append(file_data)\n",
    "\n",
    "eddy_local1 = np.concatenate(eddy_data1)\n",
    "\n",
    "eddy_data2 = []\n",
    "for eddy in eddy_files2:\n",
    "    file_data = np.load(eddy)\n",
    "    eddy_data2.append(file_data)\n",
    "\n",
    "eddy_local2 = np.concatenate(eddy_data2)"
   ]
  },
  {
   "cell_type": "code",
   "execution_count": null,
   "id": "110c146f-2be2-485d-be5d-afd346e664ef",
   "metadata": {},
   "outputs": [],
   "source": []
  },
  {
   "cell_type": "code",
   "execution_count": null,
   "id": "02da0ca2-1502-4cd2-963d-67c327930ce3",
   "metadata": {},
   "outputs": [],
   "source": []
  },
  {
   "cell_type": "markdown",
   "id": "fa5aae62-cf48-446e-a3f6-1bc01c912576",
   "metadata": {},
   "source": [
    "### Randomly sample the points"
   ]
  },
  {
   "cell_type": "code",
   "execution_count": 29,
   "id": "101f4089-c6e2-4ee1-b30f-4ce5da05d516",
   "metadata": {},
   "outputs": [],
   "source": [
    "eddy_local1_samples = np.empty(len(eddy_local1[:,0]))\n",
    "lon_samples = np.empty(720)\n",
    "#For each time take a random sample at every longitude\n",
    "for i in range(len(eddy_local1[:,0])):\n",
    "    for j in range(720):\n",
    "        lon_samples[j] = np.nanmean(np.random.choice(eddy_local1[:,j], 1))\n",
    "    lon_mean = np.nanmean(lon_samples)\n",
    "    eddy_local1_samples[i] = lon_mean\n",
    "    \n",
    "eddy_local2_samples = np.empty(len(eddy_local2[:,0]))\n",
    "lon_samples = np.empty(720)\n",
    "#For each time take a random sample at every longitude\n",
    "for i in range(len(eddy_local2[:,0])):\n",
    "    for j in range(720):\n",
    "        lon_samples[j] = np.nanmean(np.random.choice(eddy_local2[:,j], 1))\n",
    "    lon_mean = np.nanmean(lon_samples)\n",
    "    eddy_local2_samples[i] = lon_mean"
   ]
  },
  {
   "cell_type": "markdown",
   "id": "06443507-f839-43aa-8429-101a81d18051",
   "metadata": {},
   "source": [
    "### Sample the points based on local correlations"
   ]
  },
  {
   "cell_type": "code",
   "execution_count": 34,
   "id": "fcd389a4-6cc1-4fef-97c5-d32267b8784a",
   "metadata": {},
   "outputs": [],
   "source": [
    "#Decorrs are in grid points are degrees x2\n",
    "decorr1 = 30\n",
    "decorr2 = 30\n",
    "\n",
    "eddy_local1_decor_samples = np.empty(len(eddy_local1[:,0]))\n",
    "lon_samples = np.empty(720)\n",
    "for i in range(len(eddy_local1[:,0])):\n",
    "    for j in range(720):\n",
    "        if j % decorr1 == 0: #If its the decorr length scale get a new time\n",
    "            time_idx = randint(0, len(eddy_local1[:,0])-1)\n",
    "        else:\n",
    "            continue\n",
    "        lon_samples[j] = eddy_local1[time_idx,j]\n",
    "    lon_mean = np.nanmean(lon_samples)\n",
    "    eddy_local1_decor_samples[i] = lon_mean\n",
    "    \n",
    "eddy_local2_decor_samples = np.empty(len(eddy_local2[:,0]))\n",
    "lon_samples = np.empty(720)\n",
    "for i in range(len(eddy_local2[:,0])):\n",
    "    for j in range(720):\n",
    "        if j % decorr2 == 0: #If its the decorr length scale get a new time\n",
    "            time_idx = randint(0, len(eddy_local2[:,0])-1)\n",
    "        else:\n",
    "            continue\n",
    "        lon_samples[j] = eddy_local2[time_idx,j]\n",
    "    lon_mean = np.nanmean(lon_samples)\n",
    "    eddy_local2_decor_samples[i] = lon_mean"
   ]
  },
  {
   "cell_type": "markdown",
   "id": "e691426d-cd7c-4b40-aa87-3497c3598573",
   "metadata": {},
   "source": [
    "### Plot it!"
   ]
  },
  {
   "cell_type": "code",
   "execution_count": 43,
   "id": "78a5a5ba-c793-4ed7-b3f9-555b52c885fb",
   "metadata": {},
   "outputs": [
    {
     "data": {
      "image/png": "[encoded data removed]",
      "text/plain": [
       "<Figure size 1500x400 with 6 Axes>"
      ]
     },
     "metadata": {},
     "output_type": "display_data"
    }
   ],
   "source": [
    "fig, axs = plt.subplots(2, 3, figsize=(15,4))\n",
    "\n",
    "eddy_zonal1 = aht_ds.eddy_aht.sel(latitude=which_lat1).values.flatten()\n",
    "eddy_zonal2 = aht_ds.eddy_aht.sel(latitude=which_lat2).values.flatten()\n",
    "\n",
    "axs[0, 0].hist(eddy_local1.flatten(), weights=np.ones(len(eddy_local1.flatten())) / len(eddy_local1.flatten()), bins=60, alpha=0.5)\n",
    "axs[0, 0].hist(eddy_zonal1, weights=np.ones(len(eddy_zonal1)) / len(eddy_zonal1), bins=60, alpha=0.5)\n",
    "\n",
    "axs[1, 0].hist(eddy_local2.flatten(), weights=np.ones(len(eddy_local2.flatten())) / len(eddy_local2.flatten()), bins=60, alpha=0.5)\n",
    "axs[1, 0].hist(eddy_zonal2, weights=np.ones(len(eddy_zonal2)) / len(eddy_zonal2), bins=60, alpha=0.5)\n",
    "\n",
    "axs[0, 1].hist(eddy_local1_samples.flatten(), weights=np.ones(len(eddy_local1_samples.flatten())) / len(eddy_local1_samples.flatten()), bins=60, alpha=0.5)\n",
    "axs[0, 1].hist(eddy_zonal1, weights=np.ones(len(eddy_zonal1)) / len(eddy_zonal1), bins=60, alpha=0.5)\n",
    "\n",
    "axs[1, 1].hist(eddy_local2_samples.flatten(), weights=np.ones(len(eddy_local2_samples.flatten())) / len(eddy_local2_samples.flatten()), bins=60, alpha=0.5)\n",
    "axs[1, 1].hist(eddy_zonal2, weights=np.ones(len(eddy_zonal2)) / len(eddy_zonal2), bins=60, alpha=0.5)\n",
    "\n",
    "axs[0, 2].hist(eddy_local1_decor_samples.flatten(), weights=np.ones(len(eddy_local1_decor_samples.flatten())) / len(eddy_local1_decor_samples.flatten()), bins=60, alpha=0.5)\n",
    "axs[0, 2].hist(eddy_zonal1, weights=np.ones(len(eddy_zonal1)) / len(eddy_zonal1), bins=60, alpha=0.5)\n",
    "\n",
    "axs[1, 2].hist(eddy_local2_decor_samples.flatten(), weights=np.ones(len(eddy_local2_decor_samples.flatten())) / len(eddy_local2_decor_samples.flatten()), bins=60, alpha=0.5)\n",
    "axs[1, 2].hist(eddy_zonal2, weights=np.ones(len(eddy_zonal2)) / len(eddy_zonal2), bins=60, alpha=0.5)\n",
    "\n",
    "plt.show()"
   ]
  },
  {
   "cell_type": "code",
   "execution_count": null,
   "id": "96a47841-3c6f-480c-9082-b28f288b30b3",
   "metadata": {},
   "outputs": [],
   "source": []
  },
  {
   "cell_type": "code",
   "execution_count": null,
   "id": "fce96466-07a9-4e84-a6bf-f3ecca9d4ce8",
   "metadata": {},
   "outputs": [],
   "source": []
  },
  {
   "cell_type": "code",
   "execution_count": 199,
   "id": "cdda3f62-06b9-4288-b4c9-b3a92cfcfd52",
   "metadata": {},
   "outputs": [
    {
     "data": {
      "image/png": "[encoded data removed]",
      "text/plain": [
       "<Figure size 432x288 with 1 Axes>"
      ]
     },
     "metadata": {
      "needs_background": "light"
     },
     "output_type": "display_data"
    }
   ],
   "source": [
    "which_geom = geometry[era_fncts.get_lat_idx(70)]\n",
    "\n",
    "plt.hist(which_geom * eddy_70s_moist.flatten(), weights=np.ones(len(eddy_70s_moist.flatten())) / len(eddy_70s_moist.flatten()),\n",
    "         bins=100, alpha=0.5, color='b', label='Moist')\n",
    "plt.hist(which_geom * eddy_70s_dry.flatten(), weights=np.ones(len(eddy_70s_moist.flatten())) / len(eddy_70s_moist.flatten()),\n",
    "         bins=100, alpha=0.5, color='g', label='Dry')\n",
    "\n",
    "moist_std = np.std(which_geom * eddy_70s_moist.flatten())\n",
    "dry_std = np.std(which_geom * eddy_70s_dry.flatten())\n",
    "\n",
    "moist_skew = sc.skew(which_geom * eddy_70s_moist.flatten())\n",
    "dry_skew = sc.skew(which_geom * eddy_70s_dry.flatten())\n",
    "\n",
    "#plt.hist(eddy_70s_moist.flatten(),  bins=30, alpha=0.5, label='Moist')\n",
    "#plt.hist(eddy_70s_dry.flatten(), bins=30, alpha=0.5, label='Dry')\n",
    "\n",
    "#plt.ylim([0, 1000])\n",
    "#plt.xlim([0e10, 2e10])\n",
    "\n",
    "plt.yscale('log')\n",
    "plt.legend(loc=0)\n",
    "plt.xlabel('AHT (W)')\n",
    "plt.ylabel('Proportion')\n",
    "\n",
    "plt.title('Local Moist/Dry 70N AHT \\n' + 'moist std. dev.: ' + str(round(moist_std/1e15, 2)) + ' skew: ' + str(round(moist_skew, 2)) +'\\n' + 'dry std. dev.: ' + str(round(dry_std/1e15, 2)) + ' skew: ' + str(round(dry_skew, 2)))\n",
    "\n",
    "#plt.savefig('../Research_meetings/10_27_21/70n_moist_dry_local_aht_hist_logscale')"
   ]
  },
  {
   "cell_type": "code",
   "execution_count": null,
   "id": "0e8687de-e1e1-43ba-94ba-3064f5bc163f",
   "metadata": {},
   "outputs": [],
   "source": [
    "ddir = 'aht_time_series/one_lat/'\n",
    "\n",
    "file1 = ddir + 'eddy_total_70deg_all_times_1981.npy'\n",
    "#file12 = ddir + 'eddy_total_40deg_all_times_1981.npy'\n",
    "file2 = 'aht_time_series/moist_aht/' + 'eddy_moist_70deg_all_times_1981.npy'\n",
    "\n",
    "eddy_zon_total = np.load('aht_time_series/eddy_all_times_1981.npy')\n",
    "eddy_zon_moist = np.load('aht_time_series/moist_aht/eddy_moist_all_times_1981.npy')\n",
    "\n",
    "eddy_local_total = np.load(file1)\n",
    "eddy_local_moist = np.load(file2)\n",
    "\n",
    "zonal_ratio = np.mean(eddy_zon_moist/eddy_zon_total, axis=0)[era_fncts.get_lat_idx(70)]\n",
    "\n",
    "print(np.shape(eddy_local_moist))\n",
    "\n",
    "local_ratio = np.mean(eddy_local_moist, axis=0) / np.mean(eddy_local_total, axis=0)\n",
    "plt.plot(lons, local_ratio)\n",
    "#plt.plot(lons, local_ratio2, label='#2')\n",
    "\n",
    "#plt.legend(loc=0)\n",
    "#plt.ylim([-5, 5])\n",
    "\n",
    "plt.plot(range(1464), eddy_local_moist[:,0]/eddy_local_total[:,0])\n",
    "print(np.mean(eddy_local_moist[:,500]/eddy_local_total[:,500]))\n",
    "\n",
    "print(zonal_ratio)\n",
    "print(np.mean(local_ratio2))"
   ]
  },
  {
   "cell_type": "markdown",
   "id": "23d790aa-fe23-4819-b1bd-5bf3136e9de7",
   "metadata": {},
   "source": [
    "### Sampling individual point distribution to see if it re-creates zonal means"
   ]
  },
  {
   "cell_type": "code",
   "execution_count": 175,
   "id": "acfe6e67-d4e6-4700-9156-e0216168f86f",
   "metadata": {},
   "outputs": [],
   "source": [
    "#First find the autocorrelation\n",
    "\n",
    "#total_field = np.load('aht_time_series/one_lat/eddy_total_70deg_all_times_1980.npy')\n",
    "#moist_field = np.load('aht_time_series/moist_aht/' + 'eddy_moist_70deg_all_times_1980.npy')\n",
    "#point_field = total_field - moist_field\n",
    "\n",
    "#point_field = np.load('aht_time_series/70deg/eddy_total_70deg_all_times_1980.npy')\n",
    "#point_field = np.load('aht_time_series/one_lat/eddy_total_60deg_all_times_1980.npy')\n",
    "point_field = np.load('aht_time_series/moist_aht/' + 'eddy_moist_70deg_all_times_1980.npy')\n",
    "#point_field = np.load('aht_time_series/moist_aht/eddy_moist_70deg_all_times_2000.npy')\n",
    "\n",
    "corr_coefs = np.empty((720, 720))\n",
    "for i in range(720):\n",
    "    for j in range(720):\n",
    "        corr_coefs[i,j] = np.corrcoef(point_field[:,i], point_field[:,j])[0,1]"
   ]
  },
  {
   "cell_type": "code",
   "execution_count": 176,
   "id": "bf8b2f62-463d-4a6a-b2a1-9e15b045fd8c",
   "metadata": {},
   "outputs": [
    {
     "data": {
      "image/png": "[encoded data removed]",
      "text/plain": [
       "<Figure size 432x288 with 1 Axes>"
      ]
     },
     "metadata": {
      "needs_background": "light"
     },
     "output_type": "display_data"
    }
   ],
   "source": [
    "dummy_corr_coefs = np.zeros((720, 720))\n",
    "decorrs = np.zeros(720)\n",
    "\n",
    "for i in range(720):\n",
    "    corr_coefs_point = corr_coefs[i,:]\n",
    "    \n",
    "    if i<360:\n",
    "        dummy_corr_coefs[i,360-i:360] = corr_coefs_point[:i]\n",
    "        dummy_corr_coefs[i,360:] = corr_coefs_point[i:360+i]\n",
    "        dummy_corr_coefs[i,:360-i] = corr_coefs_point[i-360:]\n",
    "\n",
    "    elif i>360:\n",
    "        dummy_corr_coefs[i,:360] = corr_coefs_point[i-360:i]\n",
    "        dummy_corr_coefs[i,360:360-i] = corr_coefs_point[i:]\n",
    "        dummy_corr_coefs[i,360-i:] = corr_coefs_point[:i-360]\n",
    "        \n",
    "        \n",
    "    elif i==360:\n",
    "        dummy_corr_coefs[i,:] = corr_coefs_point\n",
    "    else:\n",
    "        print('Problem!!!')\n",
    "        \n",
    "    decorrs_end1 = era_fncts.find_nearest(dummy_corr_coefs[i,360:], 1/math.e)[1] + 360\n",
    "    decorrs_end2 = era_fncts.find_nearest(dummy_corr_coefs[i,:360], 1/math.e)[1]\n",
    "    \n",
    "    idx_diff = (abs(decorrs_end1 - 360) + abs(decorrs_end2 - 360)) / 2\n",
    "    \n",
    "    decorrs[i] = idx_diff\n",
    "    \n",
    "plt.plot(lons, (decorrs / 2))\n",
    "plt.axhline(np.nanmean(decorrs / 2), color='k', label='Mean')\n",
    "\n",
    "plt.legend(loc=0)\n",
    "\n",
    "plt.xlabel('Longitude')\n",
    "plt.ylabel('Degrees')\n",
    "plt.title('Zonal Decorrelation of 70N Moist AHT')\n",
    "\n",
    "#plt.savefig('../Research_meetings/10_27_21/zonal_decorr_70n_moist')"
   ]
  },
  {
   "cell_type": "code",
   "execution_count": 177,
   "id": "ef1321f2-43b2-4a14-8f8a-16aca0ab4810",
   "metadata": {},
   "outputs": [
    {
     "name": "stdout",
     "output_type": "stream",
     "text": [
      "18\n",
      "18\n"
     ]
    },
    {
     "data": {
      "image/png": "[encoded data removed]",
      "text/plain": [
       "<Figure size 432x288 with 1 Axes>"
      ]
     },
     "metadata": {
      "needs_background": "light"
     },
     "output_type": "display_data"
    }
   ],
   "source": [
    "\n",
    "\n",
    "\n",
    "\n",
    "#Lets re-position all the corr-coefs so we can more easily average them\n",
    "\n",
    "sum_corr_coefs = np.zeros(720)\n",
    "dummy_corr_coefs = np.zeros(720)\n",
    "\n",
    "for i in range(720):\n",
    "    corr_coefs_point = corr_coefs[i,:]\n",
    "    \n",
    "    if i<360:\n",
    "        dummy_corr_coefs[360-i:360] = corr_coefs_point[:i]\n",
    "        dummy_corr_coefs[360:] = corr_coefs_point[i:360+i]\n",
    "        dummy_corr_coefs[:360-i] = corr_coefs_point[i-360:]\n",
    "\n",
    "    elif i>360:\n",
    "        dummy_corr_coefs[:360] = corr_coefs_point[i-360:i]\n",
    "        dummy_corr_coefs[360:360-i] = corr_coefs_point[i:]\n",
    "        dummy_corr_coefs[360-i:] = corr_coefs_point[:i-360]\n",
    "        \n",
    "        \n",
    "    elif i==360:\n",
    "        dummy_corr_coefs = corr_coefs_point\n",
    "    else:\n",
    "        print('Problem!!!')\n",
    "        \n",
    "    sum_corr_coefs += dummy_corr_coefs\n",
    "        \n",
    "plt.plot(np.arange(-180, 180, 0.5), sum_corr_coefs/720)\n",
    "\n",
    "plt.axhline(1/math.e, color='r')\n",
    "\n",
    "#plt.xlim([-30, 30])\n",
    "plt.title('70 deg total Eddy AHT Zonal Autocorrelation')\n",
    "plt.ylabel('Correlation')\n",
    "plt.xlabel('Longitude')\n",
    "#plt.savefig('../Research_meetings/9_8_21/70deg_total_eddy_aht_zonal_autocorrelation')\n",
    "\n",
    "print(era_fncts.find_nearest(sum_corr_coefs[360:]/720, 1/math.e)[1])\n",
    "print(360 - era_fncts.find_nearest(sum_corr_coefs[:360]/720, 1/math.e)[1])"
   ]
  },
  {
   "cell_type": "code",
   "execution_count": 180,
   "id": "4c24e800-76b7-4aac-ab94-7a337ce7d304",
   "metadata": {},
   "outputs": [
    {
     "data": {
      "image/png": "[encoded data removed]",
      "text/plain": [
       "<Figure size 576x432 with 1 Axes>"
      ]
     },
     "metadata": {
      "needs_background": "light"
     },
     "output_type": "display_data"
    }
   ],
   "source": [
    "#point_field = np.load('aht_time_series/70deg/eddy_total_70deg_all_times_1980.npy')\n",
    "#eddy_zon_int = np.load('aht_time_series/eddy_all_times_1980.npy')\n",
    "point_field = np.load('aht_time_series/moist_aht/' + 'eddy_moist_70deg_all_times_1980.npy')\n",
    "eddy_zon_int = np.load('aht_time_series/moist_aht/eddy_moist_all_times_1980.npy')\n",
    "\n",
    "#total_field = np.load('aht_time_series/one_lat/eddy_total_70deg_all_times_1980.npy')\n",
    "#moist_field = np.load('aht_time_series/moist_aht/' + 'eddy_moist_70deg_all_times_1980.npy')\n",
    "#point_field = total_field - moist_field\n",
    "\n",
    "#eddy_total = np.load('aht_time_series/eddy_all_times_1980.npy')\n",
    "#eddy_moist = np.load('aht_time_series/moist_aht/eddy_moist_all_times_1980.npy')\n",
    "#eddy_zon_int = eddy_total - eddy_moist\n",
    "\n",
    "#Assuming no correlation between points\n",
    "#samples = np.empty(1460)\n",
    "#lon_samples = np.empty(720)\n",
    "#for i in range(1460):\n",
    "    #for j in range(720):\n",
    "        #lon_samples[j] = np.nanmean(np.random.choice(point_field[:,j], 1))\n",
    "    #lon_mean = np.nanmean(lon_samples)\n",
    "    #samples[i] = lon_mean\n",
    "\n",
    "samples = np.empty(1460)\n",
    "lon_samples = np.empty(720)\n",
    "\n",
    "for i in range(1460):\n",
    "    for j in range(720):\n",
    "        if j % 29 == 0:\n",
    "            time_idx = randint(0, 1460)\n",
    "        lon_samples[j] = point_field[time_idx,j]\n",
    "        \n",
    "    lon_mean = np.nanmean(lon_samples)\n",
    "    samples[i] = lon_mean\n",
    "    \n",
    "plt.figure(figsize=(8,6))\n",
    "\n",
    "\n",
    "plt.hist(eddy_zon_int[:,era_fncts.get_lat_idx(70)]* geometry[era_fncts.get_lat_idx(70)],\n",
    "         alpha=0.5, bins=80, density=True, label='Zonal mean')\n",
    "\n",
    "plt.hist(point_field.flatten()* geometry[era_fncts.get_lat_idx(70)],\n",
    "         alpha=0.5, bins=80, density=True, label='Local points')\n",
    "\n",
    "#plt.hist(samples * geometry[era_fncts.get_lat_idx(70)], alpha=0.5, bins=30,\n",
    "         #density=True, label='Points sampled w/ decorr')\n",
    "\n",
    "plt.legend(loc=0)\n",
    "\n",
    "plt.ylabel('Density')\n",
    "plt.xlabel('Dry AHT (W)')\n",
    "plt.title('70 deg N Moist AHT Histograms')\n",
    "#plt.ylim([0, .05e-15])\n",
    "#plt.savefig('../Research_meetings/10_27_21/70deg_total_moist_aht_hists_points_zonal_mean')\n",
    "#plt.show()"
   ]
  }
 ],
 "metadata": {
  "kernelspec": {
   "display_name": "Python 3",
   "language": "python",
   "name": "python3"
  },
  "language_info": {
   "codemirror_mode": {
    "name": "ipython",
    "version": 3
   },
   "file_extension": ".py",
   "mimetype": "text/x-python",
   "name": "python",
   "nbconvert_exporter": "python",
   "pygments_lexer": "ipython3",
   "version": "3.9.6"
  }
 },
 "nbformat": 4,
 "nbformat_minor": 5
}
