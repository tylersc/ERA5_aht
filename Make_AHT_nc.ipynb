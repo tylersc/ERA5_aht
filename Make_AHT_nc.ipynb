{
 "cells": [
  {
   "cell_type": "markdown",
   "id": "d463c066-de98-4d45-ab85-0e5c0ced21da",
   "metadata": {},
   "source": [
    "## Import modules"
   ]
  },
  {
   "cell_type": "code",
   "execution_count": 2,
   "id": "bf317d7d-ddec-40be-9ec5-daaab73fc813",
   "metadata": {},
   "outputs": [],
   "source": [
    "import xarray as xr\n",
    "from glob import glob\n",
    "import matplotlib.pyplot as plt\n",
    "import numpy as np\n",
    "from scipy import signal\n",
    "import scipy.stats as sc\n",
    "import metpy as mtp\n",
    "import math\n",
    "from scipy import integrate\n",
    "import ERA5_functions as era_fncts\n",
    "import pandas as pd\n",
    "\n",
    "from matplotlib.pyplot import cm\n",
    "import datetime as dt\n",
    "\n",
    "import cartopy.crs as ccrs\n",
    "from numpy.random import default_rng\n",
    "\n",
    "%load_ext autoreload\n",
    "%autoreload 2"
   ]
  },
  {
   "cell_type": "markdown",
   "id": "713cf921-986c-4cf8-a845-ffb765683f80",
   "metadata": {},
   "source": [
    "### Constants"
   ]
  },
  {
   "cell_type": "code",
   "execution_count": 3,
   "id": "251a5e5e-7977-478e-89ea-c32e4028b5e6",
   "metadata": {},
   "outputs": [],
   "source": [
    "a=6371220 #radius of earth in m\n",
    "L=2.5E6 #Latent heat in atmosphere\n",
    "L_ice=3.34e5 #Latent heat of fusion\n",
    "g=9.81 #Acceleration from gravity\n",
    "conv_pw=1e15 #Conversion from watts to PW\n",
    "cp=1007          \n",
    "    "
   ]
  },
  {
   "cell_type": "markdown",
   "id": "ed61cd9d-7806-493c-9e19-f4d2cb7b6534",
   "metadata": {},
   "source": [
    "### Dimensions/coordinates"
   ]
  },
  {
   "cell_type": "code",
   "execution_count": 4,
   "id": "a776aa1d-e859-45e7-8eee-d25e83802150",
   "metadata": {},
   "outputs": [],
   "source": [
    "lats = np.linspace(90, -90, 361)\n",
    "lons = np.linspace(0, 359.5, 720)\n",
    "levels = [1, 2, 3, 5, 7, 10, 20, 30, 50, 70, 100, 125, 150, 175, 200, 225, 250, 300, 350,\n",
    "            400, 450, 500, 550, 600, 650, 700, 750, 775, 800, 825, 850, 875, 900, 925, 950, 975, 1000]\n",
    "geometry = 2 * np.pi * np.cos(np.deg2rad(np.asarray(lats))) * a / g"
   ]
  },
  {
   "cell_type": "markdown",
   "id": "3e924037-94e6-4444-9401-6d2e314662d3",
   "metadata": {},
   "source": [
    "### Load instantaneous AHT calcs"
   ]
  },
  {
   "cell_type": "code",
   "execution_count": 5,
   "id": "a27c7d8c-6db1-4ab8-a0b7-4e1ccff32fa2",
   "metadata": {},
   "outputs": [],
   "source": [
    "ddir = 'aht_time_series/'\n",
    "eddy_files = sorted(glob(ddir + 'eddy*'))\n",
    "mmc_files = sorted(glob(ddir + 'mmc*'))\n",
    "\n",
    "eddy_moist_files = sorted(glob(ddir + 'moist_aht/eddy_moist_all_times*'))\n",
    "mmc_moist_files = sorted(glob(ddir + 'moist_aht/mmc_moist_all_times*'))"
   ]
  },
  {
   "cell_type": "code",
   "execution_count": 7,
   "id": "fd6b19c5-3c00-4a49-ac0d-82c6cf225cb9",
   "metadata": {},
   "outputs": [],
   "source": [
    "eddy_moist_data = []\n",
    "for eddy in eddy_moist_files:\n",
    "    file_data = np.load(eddy)\n",
    "    eddy_moist_data.append(file_data)\n",
    "\n",
    "eddy_all_times_moist = np.concatenate(eddy_moist_data) * geometry[None,:]\n",
    "        \n",
    "mmc_moist_data = []\n",
    "for mmc in mmc_moist_files:\n",
    "    file_data = np.load(mmc)\n",
    "    mmc_moist_data.append(file_data)\n",
    "\n",
    "mmc_all_times_moist = np.concatenate(mmc_moist_data) * geometry[None,:]\n",
    "        \n",
    "eddy_data = []\n",
    "for eddy in eddy_files:\n",
    "    file_data = np.load(eddy)\n",
    "    eddy_data.append(file_data)\n",
    "\n",
    "eddy_all_times = np.concatenate(eddy_data) * geometry[None,:]\n",
    "        \n",
    "mmc_data = []\n",
    "for mmc in mmc_files:\n",
    "    file_data = np.load(mmc)\n",
    "    mmc_data.append(file_data)\n",
    "\n",
    "mmc_all_times = np.concatenate(mmc_data) * geometry[None,:]"
   ]
  },
  {
   "cell_type": "markdown",
   "id": "77d2ad1d-c54e-4e23-91c9-8a8cdc8114f5",
   "metadata": {},
   "source": [
    "### Remove seasons"
   ]
  },
  {
   "cell_type": "code",
   "execution_count": 8,
   "id": "1c99b181-b959-44cd-b138-c935314d9f77",
   "metadata": {},
   "outputs": [],
   "source": [
    "mmc_all_times_no_season = np.zeros_like(mmc_all_times)\n",
    "\n",
    "eddy_all_times_no_season = np.zeros_like(eddy_all_times)\n",
    "\n",
    "for lat_idx in range(361): #Loop through each latitude\n",
    "    mmc_all_times_no_season[:,lat_idx] = era_fncts.remove_seasons_spline(\n",
    "        mmc_all_times[:,lat_idx], num_knots=6)[0]\n",
    "    eddy_all_times_no_season[:,lat_idx] = era_fncts.remove_seasons_spline(\n",
    "        eddy_all_times[:,lat_idx], num_knots=6)[0]\n",
    "\n",
    "mmc_all_times_no_season_moist = np.zeros_like(mmc_all_times_moist)\n",
    "\n",
    "eddy_all_times_no_season_moist = np.zeros_like(eddy_all_times_moist)\n",
    "\n",
    "for lat_idx in range(361): #Loop through each latitude\n",
    "    mmc_all_times_no_season_moist[:,lat_idx] = era_fncts.remove_seasons_spline(\n",
    "        mmc_all_times_moist[:,lat_idx], num_knots=6)[0]\n",
    "    eddy_all_times_no_season_moist[:,lat_idx] = era_fncts.remove_seasons_spline(\n",
    "        eddy_all_times_moist[:,lat_idx], num_knots=6)[0]"
   ]
  },
  {
   "cell_type": "code",
   "execution_count": 9,
   "id": "f2e1dbcf-eec2-4a24-9e38-183f80986a97",
   "metadata": {},
   "outputs": [],
   "source": [
    "total_all_times = eddy_all_times + mmc_all_times\n",
    "total_all_times_no_season = eddy_all_times_no_season + mmc_all_times_no_season\n",
    "\n",
    "total_all_times_moist = eddy_all_times_moist + mmc_all_times_moist\n",
    "total_all_times_no_season_moist = eddy_all_times_no_season_moist + mmc_all_times_no_season_moist\n",
    "\n",
    "total_all_times_dry = total_all_times - total_all_times_moist\n",
    "total_all_times_no_season_dry = total_all_times_no_season - total_all_times_no_season_moist\n",
    "\n",
    "eddy_all_times_dry = eddy_all_times - eddy_all_times_moist\n",
    "eddy_all_times_no_season_dry = eddy_all_times_no_season - eddy_all_times_no_season_moist\n",
    "\n",
    "mmc_all_times_dry = mmc_all_times - mmc_all_times_moist\n",
    "mmc_all_times_no_season_dry = mmc_all_times_no_season - mmc_all_times_no_season_moist"
   ]
  },
  {
   "cell_type": "code",
   "execution_count": 13,
   "id": "c0c7b61e-1004-410c-afe4-d8e32a1fdd21",
   "metadata": {},
   "outputs": [],
   "source": [
    "time_range = pd.date_range('1979-01-01', '2018-12-31 18:00:00', freq='6H')\n",
    "\n",
    "final_ds = xr.Dataset(\n",
    "                        data_vars = dict(\n",
    "                            total_aht=(['time', 'latitude'], total_all_times),\n",
    "                            eddy_aht=(['time', 'latitude'], eddy_all_times),\n",
    "                            mmc_aht=(['time', 'latitude'], mmc_all_times),\n",
    "                            total_aht_no_seasons=(['time', 'latitude'], total_all_times_no_season),\n",
    "                            eddy_aht_no_seasons=(['time', 'latitude'], eddy_all_times_no_season),\n",
    "                            mmc_aht_no_seasons=(['time', 'latitude'], mmc_all_times_no_season),\n",
    "                            total_aht_moist=(['time', 'latitude'], total_all_times_moist),\n",
    "                            eddy_aht_moist=(['time', 'latitude'], eddy_all_times_moist),\n",
    "                            mmc_aht_moist=(['time', 'latitude'], mmc_all_times_moist),\n",
    "                            total_aht_no_seasons_moist=(['time', 'latitude'], total_all_times_no_season_moist),\n",
    "                            eddy_aht_no_seasons_moist=(['time', 'latitude'], eddy_all_times_no_season_moist),\n",
    "                            mmc_aht_no_seasons_moist=(['time', 'latitude'], mmc_all_times_no_season_moist),\n",
    "                            total_aht_dry=(['time', 'latitude'], total_all_times_dry),\n",
    "                            eddy_aht_dry=(['time', 'latitude'], eddy_all_times_dry),\n",
    "                            mmc_aht_dry=(['time', 'latitude'], mmc_all_times_dry),\n",
    "                            total_aht_no_seasons_dry=(['time', 'latitude'], total_all_times_no_season_dry),\n",
    "                            eddy_aht_no_seasons_dry=(['time', 'latitude'], eddy_all_times_no_season_dry),\n",
    "                            mmc_aht_no_seasons_dry=(['time', 'latitude'], mmc_all_times_no_season_dry),\n",
    "                        ),\n",
    "                        coords=dict(\n",
    "                            time=time_range,\n",
    "                            latitude=lats)\n",
    "    )\n",
    "    \n",
    "#final_ds.to_netcdf('aht_time_series/era5_aht_time_series.nc', mode='w')"
   ]
  },
  {
   "cell_type": "markdown",
   "id": "9e4aec12-16e4-4678-a560-db0251ae6ee1",
   "metadata": {},
   "source": [
    "### Make one with monthly time resolution"
   ]
  },
  {
   "cell_type": "code",
   "execution_count": 14,
   "id": "7161a04f-e5a2-43a9-b16d-91aba2ad285b",
   "metadata": {},
   "outputs": [],
   "source": [
    "aht_ds_monthly = final_ds.resample(time=\"1M\").mean(['time'])"
   ]
  },
  {
   "cell_type": "code",
   "execution_count": 15,
   "id": "d68860c0-a3a9-4908-84f2-cc88e22ecd86",
   "metadata": {},
   "outputs": [],
   "source": [
    "#aht_ds_monthly.to_netcdf('aht_time_series/era5_monthly_aht_time_series.nc', mode='w')"
   ]
  },
  {
   "cell_type": "code",
   "execution_count": null,
   "id": "5c1168c2-0ec8-4712-b774-881a43eb7159",
   "metadata": {},
   "outputs": [],
   "source": []
  }
 ],
 "metadata": {
  "kernelspec": {
   "display_name": "Python 3",
   "language": "python",
   "name": "python3"
  },
  "language_info": {
   "codemirror_mode": {
    "name": "ipython",
    "version": 3
   },
   "file_extension": ".py",
   "mimetype": "text/x-python",
   "name": "python",
   "nbconvert_exporter": "python",
   "pygments_lexer": "ipython3",
   "version": "3.9.6"
  }
 },
 "nbformat": 4,
 "nbformat_minor": 5
}
