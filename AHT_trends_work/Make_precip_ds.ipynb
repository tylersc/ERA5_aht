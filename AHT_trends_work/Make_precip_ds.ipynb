{
 "cells": [
  {
   "cell_type": "code",
   "execution_count": 74,
   "id": "aefe14a3-2def-4134-8f9a-b6737aaee6a9",
   "metadata": {},
   "outputs": [],
   "source": [
    "import matplotlib.pyplot as plt\n",
    "import xarray as xr\n",
    "import pandas as pd\n",
    "import numpy as np\n",
    "import glob"
   ]
  },
  {
   "cell_type": "code",
   "execution_count": 67,
   "id": "5c0dca01-f61c-48f2-9999-56c8dc6537be",
   "metadata": {},
   "outputs": [],
   "source": [
    "era5_precip = xr.open_dataset('../era5_raw_data/era5_precip.nc').tp.sel(time=slice('1980-01-01','2014-12-31')).mean(['longitude'])*1000\n",
    "\n",
    "era5_precip_trend = era5_precip.groupby('time.year').mean('time').polyfit(dim='year', deg=1)\n",
    "\n",
    "\n",
    "gpcp_precip = xr.open_dataset('../precip.mon.mean.nc').precip.sel(time=slice('1980-01-01','2014-12-31')).mean(['lon'])\n",
    "gpcp_precip_trend = gpcp_precip.groupby('time.year').mean('time').polyfit(dim='year', deg=1)\n",
    "\n"
   ]
  },
  {
   "cell_type": "code",
   "execution_count": 68,
   "id": "b4357211-6088-4479-9e35-ef7d195ac766",
   "metadata": {},
   "outputs": [],
   "source": [
    "merra_precip = xr.open_mfdataset('../merra_data/merra_precip/*.nc4').PRECTOT.sel(time=slice('1980-01-01','2014-12-31')).mean(['lon'])*86400\n",
    "merra_precip_trend = merra_precip.groupby('time.year').mean('time').polyfit(dim='year', deg=1)\n",
    "\n",
    "merra_precip['time'] = era5_precip.time\n",
    "\n",
    "merra_precip = merra_precip.interp(lat=era5_precip.latitude)\n"
   ]
  },
  {
   "cell_type": "code",
   "execution_count": 76,
   "id": "ae599c59-5047-4a24-ac37-a1e9d6aadc33",
   "metadata": {},
   "outputs": [],
   "source": [
    "jra_datas = []\n",
    "\n",
    "jra_files = glob.glob('../JRA_aht/raw_monthly_data/precip/*')\n",
    "\n",
    "for file in jra_files:\n",
    "    \n",
    "    jra_precip1 = xr.open_dataset(file)\n",
    "    jra_precip1 = jra_precip1.rename({'g0_lat_1':'lat',\n",
    "                                   'g0_lon_2':'lon',\n",
    "                                   'initial_time0_hours':'time',\n",
    "                                   'TPRAT_GDS0_SFC_S130':'pr'})\n",
    "\n",
    "    jra_precip1 = jra_precip1.pr.mean(['lon'])\n",
    "    jra_precip1 = jra_precip1.interp(lat=era5_precip.latitude)\n",
    "    \n",
    "    jra_datas.append(jra_precip1)\n",
    "    \n",
    "    \n",
    "jra_precip = xr.concat(jra_datas, dim='time')\n",
    "\n",
    "jra_precip = jra_precip.sel(time=slice('1980-01-01','2014-12-31'))\n",
    "jra_precip['time'] = era5_precip.time"
   ]
  },
  {
   "cell_type": "code",
   "execution_count": null,
   "id": "bc18d38c-1174-42fc-8223-223db8f7e8c3",
   "metadata": {},
   "outputs": [],
   "source": []
  },
  {
   "cell_type": "code",
   "execution_count": 77,
   "id": "b7d20e3a-058e-4003-9322-4308e5dcf0bf",
   "metadata": {},
   "outputs": [],
   "source": [
    "reanalysis_precip = xr.concat([era5_precip, jra_precip, merra_precip],\n",
    "                              pd.Index(['ERA5', 'JRA', 'MERRA'], name='model'))\n",
    "\n",
    "reanalysis_precip = reanalysis_precip.compute()\n",
    "\n",
    "#reanalysis_precip.to_netcdf('../AHT_trends_work/reanalysis_precip.nc')"
   ]
  },
  {
   "cell_type": "code",
   "execution_count": 4,
   "id": "8abe3f82-51c8-4bf1-9789-097235feb92d",
   "metadata": {},
   "outputs": [],
   "source": [
    "models = [\"AWI-CM-1-1-MR\",\n",
    "\"AWI-ESM-1-1-LR\",\n",
    "\"BCC-CSM2-MR\",\n",
    "\"BCC-ESM1\",\n",
    "\"CAMS-CSM1-0\",\n",
    "\"CAS-ESM2-0\",\n",
    "\"CIESM\",\n",
    "\"CMCC-ESM2\",\n",
    "\"CanESM5-1\",\n",
    "\"E3SM-1-1\",\n",
    "\"E3SM-1-1-ECA\",\n",
    "\"E3SM-2-0\",\n",
    "\"EC-Earth3-Veg-LR\",\n",
    "\"FIO-ESM-2-0\",\n",
    "\"GFDL-ESM4\",\n",
    "\"GISS-E2-2-H\",\n",
    "\"ICON-ESM-LR\",\n",
    "\"IPSL-CM5A2-INCA\",\n",
    "\"IPSL-CM6A-LR-INCA\",\n",
    "\"KIOST-ESM\",\n",
    "\"MCM-UA-1-0\",\n",
    "\"NorESM2-MM\",\n",
    "    \"ACCESS-CM2\",\n",
    "    \"ACCESS-ESM1-5\",\n",
    "    \"CanESM5\",\n",
    "    \"CESM-FV2\",\n",
    "    \"CESM2\",\n",
    "    \"CESM2-WACCM\",\n",
    "    \"CESM2-WACCM-FV2\",\n",
    "    \"CMCC-CM2-HR4\",\n",
    "    \"CMCC-CM2-SR5\",\n",
    "    \"CNRM-CM6-1-HR\",\n",
    "    \"CNRM-CM6-1\",\n",
    "    \"E3SM-1-0\",\n",
    "    \"EC-Earth3-AerChem\",\n",
    "    \"EC-Earth3-CC\",\n",
    "    \"EC-Earth3-Veg\",\n",
    "    \"EC-Earth3\",\n",
    "    \"FGOALS-f3-L\",\n",
    "    \"FGOALS-g3\",\n",
    "    \"GFDL-CM4\",\n",
    "    \"GISS-E2-1-G\",\n",
    "    \"GISS-E2-2-G\",\n",
    "    \"GISS-E2-1-H\",\n",
    "    \"HadGEM3-GC31-LL\",\n",
    "    \"HadGEM3-GC31-MM\",\n",
    "    \"IITM-ESM\",\n",
    "    \"INM-CM4-8\",\n",
    "    \"INM-CM5-0\",\n",
    "    \"IPSL-CM6A-LR\",\n",
    "    \"KACE-1-0-G\",\n",
    "    \"MIROC6\",\n",
    "    \"MIROC-ES2L\",\n",
    "    \"MPI-ESM-1-2-HAM\",\n",
    "    \"MPI-ESM1-2-HR\",\n",
    "    \"MPI-ESM1-2-LR\",\n",
    "    \"MRI-ESM2-0\",\n",
    "    \"NESM3\",\n",
    "    \"NorCPM1\",\n",
    "    \"NorESM2-LM\",\n",
    "    \"SAM0-UNICON\",\n",
    "    \"TaiESM1\",\n",
    "    \"UKESM1-0-LL\"\n",
    "]"
   ]
  },
  {
   "cell_type": "code",
   "execution_count": 45,
   "id": "09e61dfa-c5b9-424a-80da-a82c7e7e856c",
   "metadata": {},
   "outputs": [],
   "source": [
    "def open_pr(file):\n",
    "\n",
    "    final_times = pd.date_range('1980-01-01', '2014-12-31', freq='1M')\n",
    "    \n",
    "    final_lat = np.arange(-90, 91, 1)\n",
    "    \n",
    "    pr_ds = xr.open_mfdataset(file).pr.mean('lon')\n",
    "    \n",
    "    pr_ds = pr_ds.sel(time=slice('1980-01-01','2014-12-31'))\n",
    "\n",
    "    pr_ds = pr_ds.interp(lat=final_lat)\n",
    "    \n",
    "    pr_ds['time'] = final_times\n",
    "    \n",
    "    return pr_ds"
   ]
  },
  {
   "cell_type": "code",
   "execution_count": 46,
   "id": "d5cded78-5ca2-463f-8be3-3a512b7d926e",
   "metadata": {},
   "outputs": [
    {
     "name": "stdout",
     "output_type": "stream",
     "text": [
      "AMIP: AWI-CM-1-1-MR\n",
      "AMIP: AWI-ESM-1-1-LR\n",
      "Historical: CIESM\n",
      "AMIP: CIESM\n",
      "AMIP: CMCC-ESM2\n",
      "AMIP: CanESM5-1\n",
      "AMIP: E3SM-1-1\n",
      "AMIP: E3SM-1-1-ECA\n",
      "Historical: EC-Earth3-Veg-LR\n",
      "AMIP: GISS-E2-2-H\n",
      "Historical: ICON-ESM-LR\n",
      "AMIP: ICON-ESM-LR\n",
      "AMIP: IPSL-CM5A2-INCA\n",
      "AMIP: IPSL-CM6A-LR-INCA\n",
      "Historical: MCM-UA-1-0\n",
      "AMIP: MCM-UA-1-0\n",
      "AMIP: NorESM2-MM\n",
      "Historical: ACCESS-CM2\n",
      "Historical: CESM-FV2\n",
      "AMIP: CESM-FV2\n"
     ]
    },
    {
     "name": "stderr",
     "output_type": "stream",
     "text": [
      "/tdat/tylersc/mini3/envs/jupyter_new/lib/python3.9/site-packages/xarray/conventions.py:512: SerializationWarning: variable 'pr' has multiple fill values {1e+20, 1e+20}, decoding all values to NaN.\n",
      "  new_vars[k] = decode_cf_variable(\n",
      "/tdat/tylersc/mini3/envs/jupyter_new/lib/python3.9/site-packages/xarray/conventions.py:512: SerializationWarning: variable 'pr' has multiple fill values {1e+20, 1e+20}, decoding all values to NaN.\n",
      "  new_vars[k] = decode_cf_variable(\n",
      "/tdat/tylersc/mini3/envs/jupyter_new/lib/python3.9/site-packages/xarray/conventions.py:512: SerializationWarning: variable 'pr' has multiple fill values {1e+20, 1e+20}, decoding all values to NaN.\n",
      "  new_vars[k] = decode_cf_variable(\n",
      "/tdat/tylersc/mini3/envs/jupyter_new/lib/python3.9/site-packages/xarray/conventions.py:512: SerializationWarning: variable 'pr' has multiple fill values {1e+20, 1e+20}, decoding all values to NaN.\n",
      "  new_vars[k] = decode_cf_variable(\n",
      "/tdat/tylersc/mini3/envs/jupyter_new/lib/python3.9/site-packages/xarray/conventions.py:512: SerializationWarning: variable 'pr' has multiple fill values {1e+20, 1e+20}, decoding all values to NaN.\n",
      "  new_vars[k] = decode_cf_variable(\n",
      "/tdat/tylersc/mini3/envs/jupyter_new/lib/python3.9/site-packages/xarray/conventions.py:512: SerializationWarning: variable 'pr' has multiple fill values {1e+20, 1e+20}, decoding all values to NaN.\n",
      "  new_vars[k] = decode_cf_variable(\n"
     ]
    },
    {
     "name": "stdout",
     "output_type": "stream",
     "text": [
      "Historical: CNRM-CM6-1-HR\n",
      "AMIP: CNRM-CM6-1-HR\n",
      "Historical: CNRM-CM6-1\n",
      "AMIP: CNRM-CM6-1\n",
      "Historical: EC-Earth3-AerChem\n",
      "Historical: GFDL-CM4\n",
      "AMIP: GFDL-CM4\n",
      "AMIP: GISS-E2-2-G\n",
      "AMIP: GISS-E2-1-H\n",
      "Historical: HadGEM3-GC31-LL\n",
      "AMIP: HadGEM3-GC31-LL\n",
      "Historical: HadGEM3-GC31-MM\n",
      "AMIP: HadGEM3-GC31-MM\n",
      "Historical: KACE-1-0-G\n",
      "AMIP: KACE-1-0-G\n",
      "Historical: MIROC-ES2L\n",
      "AMIP: MIROC-ES2L\n",
      "Historical: SAM0-UNICON\n",
      "AMIP: SAM0-UNICON\n",
      "Historical: UKESM1-0-LL\n",
      "AMIP: UKESM1-0-LL\n"
     ]
    }
   ],
   "source": [
    "prs_amip = []\n",
    "prs_amip_names = []\n",
    "prs_historical = []\n",
    "prs_historical_names = []\n",
    "for model in models:\n",
    "    try:   \n",
    "        file_name = f'../CMIP6/data/s_{model}_e_historical_vl_r1i1p1f1_f_mon_r_atmos_v_pr/*Amon*'\n",
    "        precip_historical = open_pr(file_name)\n",
    "        prs_historical.append(precip_historical)\n",
    "        prs_historical_names.append(model)\n",
    "    except:\n",
    "        print('Historical: ' + model)\n",
    "      \n",
    "    try:\n",
    "        file_name = f'../CMIP6/data/s_{model}_e_amip_vl_r1i1p1f1_f_mon_r_atmos_v_pr/*Amon*'\n",
    "        precip_amip = open_pr(file_name)\n",
    "        prs_amip.append(precip_amip)\n",
    "        prs_amip_names.append(model)\n",
    "        \n",
    "    except:\n",
    "        print('AMIP: ' + model)\n",
    "\n",
    "    "
   ]
  },
  {
   "cell_type": "code",
   "execution_count": 47,
   "id": "134e6f6b-1df8-46e4-8ef7-de7286491ad1",
   "metadata": {},
   "outputs": [],
   "source": [
    "hist_pr_ds = xr.concat(prs_historical,  pd.Index(prs_historical_names, name='model'))\n",
    "amip_pr_ds = xr.concat(prs_amip, pd.Index(prs_amip_names, name='model'))\n"
   ]
  },
  {
   "cell_type": "code",
   "execution_count": 49,
   "id": "600b633b-a645-4dd9-84ab-f04e7e27fea9",
   "metadata": {},
   "outputs": [],
   "source": [
    "#hist_pr_ds.to_netcdf('../AHT_trends_work/hist_pr_ds.nc')\n",
    "#amip_pr_ds.to_netcdf('../AHT_trends_work/amip_pr_ds.nc')"
   ]
  },
  {
   "cell_type": "code",
   "execution_count": null,
   "id": "8dfebdac-d1d3-40ce-a8d4-771035e44e9e",
   "metadata": {},
   "outputs": [],
   "source": []
  }
 ],
 "metadata": {
  "kernelspec": {
   "display_name": "Python 3",
   "language": "python",
   "name": "python3"
  },
  "language_info": {
   "codemirror_mode": {
    "name": "ipython",
    "version": 3
   },
   "file_extension": ".py",
   "mimetype": "text/x-python",
   "name": "python",
   "nbconvert_exporter": "python",
   "pygments_lexer": "ipython3",
   "version": "3.9.6"
  }
 },
 "nbformat": 4,
 "nbformat_minor": 5
}
